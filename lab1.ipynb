{
  "nbformat": 4,
  "nbformat_minor": 0,
  "metadata": {
    "colab": {
      "name": "lab1.ipynb",
      "provenance": [],
      "authorship_tag": "ABX9TyPPVHBANJgLormdtkr6vpbC",
      "include_colab_link": true
    },
    "kernelspec": {
      "name": "python3",
      "display_name": "Python 3"
    }
  },
  "cells": [
    {
      "cell_type": "markdown",
      "metadata": {
        "id": "view-in-github",
        "colab_type": "text"
      },
      "source": [
        "<a href=\"https://colab.research.google.com/github/cmp79-pennstate/SRA-268/blob/master/lab1.ipynb\" target=\"_parent\"><img src=\"https://colab.research.google.com/assets/colab-badge.svg\" alt=\"Open In Colab\"/></a>"
      ]
    },
    {
      "cell_type": "code",
      "metadata": {
        "id": "1M6lXqhNGlI7",
        "colab_type": "code",
        "colab": {}
      },
      "source": [
        "##introduction"
      ],
      "execution_count": 0,
      "outputs": []
    },
    {
      "cell_type": "markdown",
      "metadata": {
        "id": "yDhizsILBRjm",
        "colab_type": "text"
      },
      "source": [
        "#Lab 1\n",
        "\n"
      ]
    },
    {
      "cell_type": "markdown",
      "metadata": {
        "id": "61cpzvq8OWes",
        "colab_type": "text"
      },
      "source": [
        "Carly Palermo\n",
        "email: cmp79@psu.edu\n",
        "section 001"
      ]
    },
    {
      "cell_type": "markdown",
      "metadata": {
        "id": "onFzRkjGOewF",
        "colab_type": "text"
      },
      "source": [
        ""
      ]
    },
    {
      "cell_type": "markdown",
      "metadata": {
        "id": "qLBEXTMWBtkS",
        "colab_type": "text"
      },
      "source": [
        "#Outline"
      ]
    },
    {
      "cell_type": "markdown",
      "metadata": {
        "id": "MbnHjqiiOhv8",
        "colab_type": "text"
      },
      "source": [
        "For this lab, I utilized data given about the temperatures in State College from years 2017 to 2019. I chose to graph the minimum temperatures for the January First and April first for the three years to show how temperature has differed with each year. I used a double bar graph to represent the lowest temperatures on the first of these months for the three years. \n"
      ]
    },
    {
      "cell_type": "markdown",
      "metadata": {
        "id": "SBMSYH3UPfNw",
        "colab_type": "text"
      },
      "source": [
        "#Sketch ![](https://raw.githubusercontent.com/cmp79-pennstate/SRA-268/master/images/SRA%20268%20LAB1%20GRAPH.jpghttps://raw.githubusercontent.com/cmp79-pennstate/SRA-268/master/images/SRA%20268%20LAB1%20GRAPH.jpg)"
      ]
    },
    {
      "cell_type": "markdown",
      "metadata": {
        "id": "ucvzPEIHP0Rp",
        "colab_type": "text"
      },
      "source": [
        "#Conclusion"
      ]
    },
    {
      "cell_type": "markdown",
      "metadata": {
        "id": "Dcm7B4h6P3LZ",
        "colab_type": "text"
      },
      "source": [
        "From this data, I have made an inference that the temperatures on the first of the months of January and April have gradually decreased from the years 2017 to 2019. However, there is the exception that on January 1, 2018 the lowest temperature was zero degrees. I predict for the year 2020 that the first of January and the first of April will continue the descending trends with temperatures at 20 degrees for January and 22 degrees for April."
      ]
    }
  ]
}